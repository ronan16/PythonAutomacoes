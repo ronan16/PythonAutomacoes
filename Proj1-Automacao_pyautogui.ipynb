{
 "cells": [
  {
   "cell_type": "markdown",
   "id": "839fc0dc",
   "metadata": {},
   "source": [
    "# Automação de Rede Social\n",
    "\n",
    "## Removendo seguidores do Twitter usando automação em Python\n",
    "\n",
    "Com base na biblioteca PyAutoGui, será desenvolvido uma automação para deixar de seguir todas as pessoas do seu Twitter.\n",
    "\n",
    "Parâmetro inicial: \n",
    " - Tamanho da tela: 1920 x 1080\n",
    " - Zoom: 100%\n",
    " - Página de ação: https://twitter.com/seu_usuario/following "
   ]
  },
  {
   "cell_type": "code",
   "execution_count": 11,
   "id": "c23ac1aa",
   "metadata": {},
   "outputs": [
    {
     "name": "stdout",
     "output_type": "stream",
     "text": [
      "Requirement already satisfied: pyautogui in c:\\users\\ronan\\anaconda3\\lib\\site-packages (0.9.53)\n",
      "Requirement already satisfied: pyscreeze>=0.1.21 in c:\\users\\ronan\\anaconda3\\lib\\site-packages (from pyautogui) (0.1.28)\n",
      "Requirement already satisfied: pymsgbox in c:\\users\\ronan\\anaconda3\\lib\\site-packages (from pyautogui) (1.0.9)\n",
      "Requirement already satisfied: pygetwindow>=0.0.5 in c:\\users\\ronan\\anaconda3\\lib\\site-packages (from pyautogui) (0.0.9)\n",
      "Requirement already satisfied: mouseinfo in c:\\users\\ronan\\anaconda3\\lib\\site-packages (from pyautogui) (0.1.3)\n",
      "Requirement already satisfied: PyTweening>=1.0.1 in c:\\users\\ronan\\anaconda3\\lib\\site-packages (from pyautogui) (1.0.4)\n",
      "Requirement already satisfied: pyrect in c:\\users\\ronan\\anaconda3\\lib\\site-packages (from pygetwindow>=0.0.5->pyautogui) (0.1.4)\n",
      "Requirement already satisfied: pyperclip in c:\\users\\ronan\\anaconda3\\lib\\site-packages (from mouseinfo->pyautogui) (1.8.2)\n",
      "Requirement already satisfied: pyperclip in c:\\users\\ronan\\anaconda3\\lib\\site-packages (1.8.2)\n",
      "Requirement already satisfied: selenium in c:\\users\\ronan\\anaconda3\\lib\\site-packages (4.1.0)\n",
      "Requirement already satisfied: trio-websocket~=0.9 in c:\\users\\ronan\\anaconda3\\lib\\site-packages (from selenium) (0.9.2)\n",
      "Requirement already satisfied: urllib3[secure]~=1.26 in c:\\users\\ronan\\anaconda3\\lib\\site-packages (from selenium) (1.26.7)\n",
      "Requirement already satisfied: trio~=0.17 in c:\\users\\ronan\\anaconda3\\lib\\site-packages (from selenium) (0.19.0)\n",
      "Requirement already satisfied: sniffio in c:\\users\\ronan\\anaconda3\\lib\\site-packages (from trio~=0.17->selenium) (1.2.0)\n",
      "Requirement already satisfied: idna in c:\\users\\ronan\\anaconda3\\lib\\site-packages (from trio~=0.17->selenium) (3.2)\n",
      "Requirement already satisfied: cffi>=1.14 in c:\\users\\ronan\\anaconda3\\lib\\site-packages (from trio~=0.17->selenium) (1.14.6)\n",
      "Requirement already satisfied: sortedcontainers in c:\\users\\ronan\\anaconda3\\lib\\site-packages (from trio~=0.17->selenium) (2.4.0)\n",
      "Requirement already satisfied: attrs>=19.2.0 in c:\\users\\ronan\\anaconda3\\lib\\site-packages (from trio~=0.17->selenium) (21.2.0)\n",
      "Requirement already satisfied: outcome in c:\\users\\ronan\\anaconda3\\lib\\site-packages (from trio~=0.17->selenium) (1.1.0)\n",
      "Requirement already satisfied: async-generator>=1.9 in c:\\users\\ronan\\anaconda3\\lib\\site-packages (from trio~=0.17->selenium) (1.10)\n",
      "Requirement already satisfied: pycparser in c:\\users\\ronan\\anaconda3\\lib\\site-packages (from cffi>=1.14->trio~=0.17->selenium) (2.20)\n",
      "Requirement already satisfied: wsproto>=0.14 in c:\\users\\ronan\\anaconda3\\lib\\site-packages (from trio-websocket~=0.9->selenium) (1.0.0)\n",
      "Requirement already satisfied: pyOpenSSL>=0.14 in c:\\users\\ronan\\anaconda3\\lib\\site-packages (from urllib3[secure]~=1.26->selenium) (21.0.0)\n",
      "Requirement already satisfied: cryptography>=1.3.4 in c:\\users\\ronan\\anaconda3\\lib\\site-packages (from urllib3[secure]~=1.26->selenium) (3.4.8)\n",
      "Requirement already satisfied: certifi in c:\\users\\ronan\\anaconda3\\lib\\site-packages (from urllib3[secure]~=1.26->selenium) (2021.10.8)\n",
      "Requirement already satisfied: six>=1.5.2 in c:\\users\\ronan\\anaconda3\\lib\\site-packages (from pyOpenSSL>=0.14->urllib3[secure]~=1.26->selenium) (1.16.0)\n",
      "Requirement already satisfied: h11<1,>=0.9.0 in c:\\users\\ronan\\anaconda3\\lib\\site-packages (from wsproto>=0.14->trio-websocket~=0.9->selenium) (0.12.0)\n"
     ]
    }
   ],
   "source": [
    "#instalação das bibliotecas necessárias\n",
    "!pip install pyautogui\n",
    "!pip install pyperclip"
   ]
  },
  {
   "cell_type": "code",
   "execution_count": 15,
   "id": "7761811a",
   "metadata": {},
   "outputs": [],
   "source": []
  },
  {
   "cell_type": "code",
   "execution_count": 8,
   "id": "d311c197",
   "metadata": {},
   "outputs": [
    {
     "data": {
      "text/plain": [
       "Point(x=988, y=654)"
      ]
     },
     "execution_count": 8,
     "metadata": {},
     "output_type": "execute_result"
    }
   ],
   "source": [
    "#Localizar posição X - Y da tela\n",
    "import time\n",
    "import pyautogui\n",
    "\n",
    "time.sleep(5)\n",
    "pyautogui.position()"
   ]
  },
  {
   "cell_type": "code",
   "execution_count": 9,
   "id": "40b0c394",
   "metadata": {},
   "outputs": [],
   "source": [
    "#Função para abrir a aba desejada\n",
    "def abrirAba(link):\n",
    "    ## abrir uma aba do navegador\n",
    "    pyautogui.PAUSE = 0.5\n",
    "\n",
    "        #Passo 1\n",
    "        #hotkey: permite executar uma COMBINAÇÂO de teclas\n",
    "    pyautogui.hotkey(\"ctrl\",\"t\")\n",
    "    pyperclip.copy(link)\n",
    "    pyautogui.hotkey(\"ctrl\", \"v\")\n",
    "    pyautogui.press(\"enter\")\n",
    "\n",
    "        ## Aguardar para carregar o sistema antes de seguir\n",
    "    time.sleep(5)\n",
    "    \n",
    "def deixarDeSeguir():\n",
    "    #Localizar o botão de \"Seguindo\" ( Point(x=1165, y=295) e clicar sobre ele\n",
    "    pyautogui.click(x=1165, y=295, clicks=1)\n",
    "\n",
    "    time.sleep(1)\n",
    "\n",
    "    #Passo 3: Localizar o botão \"Deixar de seguir\" ( Point(x=990, y=655) ) e clicar sobre ele\n",
    "    pyautogui.click(x=990, y=655, clicks=1)\n",
    "\n",
    "    #Passo 4: atualizar a pagina\n",
    "    pyautogui.press(\"f5\")\n",
    "    time.sleep(3)\n",
    "\n",
    "    "
   ]
  },
  {
   "cell_type": "code",
   "execution_count": 10,
   "id": "75a2be55",
   "metadata": {},
   "outputs": [
    {
     "ename": "KeyboardInterrupt",
     "evalue": "",
     "output_type": "error",
     "traceback": [
      "\u001b[1;31m---------------------------------------------------------------------------\u001b[0m",
      "\u001b[1;31mKeyboardInterrupt\u001b[0m                         Traceback (most recent call last)",
      "\u001b[1;32m~\\AppData\\Local\\Temp/ipykernel_17868/760095775.py\u001b[0m in \u001b[0;36m<module>\u001b[1;34m\u001b[0m\n\u001b[0;32m     11\u001b[0m \u001b[1;31m#Passo 2: Deixar de seguir todos\u001b[0m\u001b[1;33m\u001b[0m\u001b[1;33m\u001b[0m\u001b[0m\n\u001b[0;32m     12\u001b[0m \u001b[1;32mfor\u001b[0m \u001b[0mi\u001b[0m \u001b[1;32min\u001b[0m \u001b[0mrange\u001b[0m\u001b[1;33m(\u001b[0m\u001b[1;36m100\u001b[0m\u001b[1;33m)\u001b[0m\u001b[1;33m:\u001b[0m\u001b[1;33m\u001b[0m\u001b[1;33m\u001b[0m\u001b[0m\n\u001b[1;32m---> 13\u001b[1;33m     \u001b[0mdeixarDeSeguir\u001b[0m\u001b[1;33m(\u001b[0m\u001b[1;33m)\u001b[0m\u001b[1;33m\u001b[0m\u001b[1;33m\u001b[0m\u001b[0m\n\u001b[0m\u001b[0;32m     14\u001b[0m \u001b[1;33m\u001b[0m\u001b[0m\n\u001b[0;32m     15\u001b[0m \u001b[1;33m\u001b[0m\u001b[0m\n",
      "\u001b[1;32m~\\AppData\\Local\\Temp/ipykernel_17868/653671822.py\u001b[0m in \u001b[0;36mdeixarDeSeguir\u001b[1;34m()\u001b[0m\n\u001b[0;32m     25\u001b[0m     \u001b[1;31m#Passo 4: atualizar a pagina\u001b[0m\u001b[1;33m\u001b[0m\u001b[1;33m\u001b[0m\u001b[0m\n\u001b[0;32m     26\u001b[0m     \u001b[0mpyautogui\u001b[0m\u001b[1;33m.\u001b[0m\u001b[0mpress\u001b[0m\u001b[1;33m(\u001b[0m\u001b[1;34m\"f5\"\u001b[0m\u001b[1;33m)\u001b[0m\u001b[1;33m\u001b[0m\u001b[1;33m\u001b[0m\u001b[0m\n\u001b[1;32m---> 27\u001b[1;33m     \u001b[0mtime\u001b[0m\u001b[1;33m.\u001b[0m\u001b[0msleep\u001b[0m\u001b[1;33m(\u001b[0m\u001b[1;36m3\u001b[0m\u001b[1;33m)\u001b[0m\u001b[1;33m\u001b[0m\u001b[1;33m\u001b[0m\u001b[0m\n\u001b[0m\u001b[0;32m     28\u001b[0m \u001b[1;33m\u001b[0m\u001b[0m\n\u001b[0;32m     29\u001b[0m \u001b[1;33m\u001b[0m\u001b[0m\n",
      "\u001b[1;31mKeyboardInterrupt\u001b[0m: "
     ]
    }
   ],
   "source": [
    "#Imports\n",
    "import pyautogui\n",
    "import pyperclip\n",
    "import time\n",
    "\n",
    "#Passo 1: ir para a página do Twitter de seguidores\n",
    "abrirAba(\"https://twitter.com/anacletolopes/following\")\n",
    "\n",
    "\n",
    "\n",
    "#Passo 2: Deixar de seguir todos\n",
    "for i in range(100):\n",
    "    deixarDeSeguir()\n",
    "\n",
    "\n"
   ]
  }
 ],
 "metadata": {
  "kernelspec": {
   "display_name": "Python 3 (ipykernel)",
   "language": "python",
   "name": "python3"
  },
  "language_info": {
   "codemirror_mode": {
    "name": "ipython",
    "version": 3
   },
   "file_extension": ".py",
   "mimetype": "text/x-python",
   "name": "python",
   "nbconvert_exporter": "python",
   "pygments_lexer": "ipython3",
   "version": "3.9.7"
  }
 },
 "nbformat": 4,
 "nbformat_minor": 5
}
